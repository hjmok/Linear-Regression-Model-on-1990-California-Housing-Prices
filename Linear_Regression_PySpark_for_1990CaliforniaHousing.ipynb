{
  "nbformat": 4,
  "nbformat_minor": 0,
  "metadata": {
    "application/vnd.databricks.v1+notebook": {
      "notebookName": "California Housing",
      "dashboards": [],
      "notebookMetadata": {
        "pythonIndentUnit": 2
      },
      "language": "python",
      "widgets": {},
      "notebookOrigID": 573141629110072
    },
    "colab": {
      "name": "California Housing_PySpark.ipynb",
      "provenance": []
    }
  },
  "cells": [
    {
      "cell_type": "code",
      "metadata": {
        "application/vnd.databricks.v1+cell": {
          "title": "",
          "showTitle": false,
          "inputWidgets": {},
          "nuid": "11c827a4-a32a-4f27-9657-2b8f63163a92"
        },
        "id": "3YyurZpAdlaR",
        "outputId": "84163db2-33c2-4240-b86d-689b0f9b7f06"
      },
      "source": [
        "from pyspark.sql import SparkSession\n",
        "from pyspark.ml.regression import LinearRegression\n",
        "from pyspark.ml.linalg import Vectors\n",
        "from pyspark.ml.feature import VectorAssembler\n",
        "from pyspark.ml.feature import StringIndexer\n",
        "from pyspark.sql.functions import isnan, when, count, col"
      ],
      "execution_count": null,
      "outputs": [
        {
          "output_type": "display_data",
          "data": {
            "text/html": [
              "<style scoped>\n",
              "  .ansiout {\n",
              "    display: block;\n",
              "    unicode-bidi: embed;\n",
              "    white-space: pre-wrap;\n",
              "    word-wrap: break-word;\n",
              "    word-break: break-all;\n",
              "    font-family: \"Source Code Pro\", \"Menlo\", monospace;;\n",
              "    font-size: 13px;\n",
              "    color: #555;\n",
              "    margin-left: 4px;\n",
              "    line-height: 19px;\n",
              "  }\n",
              "</style>\n",
              "<div class=\"ansiout\"></div>"
            ]
          },
          "metadata": {
            "tags": [],
            "application/vnd.databricks.v1+output": {
              "datasetInfos": [],
              "data": "<div class=\"ansiout\"></div>",
              "removedWidgets": [],
              "addedWidgets": {},
              "type": "html",
              "arguments": {}
            }
          }
        }
      ]
    },
    {
      "cell_type": "code",
      "metadata": {
        "application/vnd.databricks.v1+cell": {
          "title": "",
          "showTitle": false,
          "inputWidgets": {},
          "nuid": "a3fefd56-f830-4f4e-a475-4bd535811bb2"
        },
        "id": "uL7TZ6Zjdlae",
        "outputId": "bdceaffd-624f-48f6-d647-3f506605f14f"
      },
      "source": [
        "spark = SparkSession.builder.appName('CaliHousing').getOrCreate()"
      ],
      "execution_count": null,
      "outputs": [
        {
          "output_type": "display_data",
          "data": {
            "text/html": [
              "<style scoped>\n",
              "  .ansiout {\n",
              "    display: block;\n",
              "    unicode-bidi: embed;\n",
              "    white-space: pre-wrap;\n",
              "    word-wrap: break-word;\n",
              "    word-break: break-all;\n",
              "    font-family: \"Source Code Pro\", \"Menlo\", monospace;;\n",
              "    font-size: 13px;\n",
              "    color: #555;\n",
              "    margin-left: 4px;\n",
              "    line-height: 19px;\n",
              "  }\n",
              "</style>\n",
              "<div class=\"ansiout\"></div>"
            ]
          },
          "metadata": {
            "tags": [],
            "application/vnd.databricks.v1+output": {
              "datasetInfos": [],
              "data": "<div class=\"ansiout\"></div>",
              "removedWidgets": [],
              "addedWidgets": {},
              "type": "html",
              "arguments": {}
            }
          }
        }
      ]
    },
    {
      "cell_type": "markdown",
      "metadata": {
        "id": "IiwiFld7dnqu"
      },
      "source": [
        "# **Part 1 - Data Preprocessing**"
      ]
    },
    {
      "cell_type": "code",
      "metadata": {
        "application/vnd.databricks.v1+cell": {
          "title": "Part 1 - Data Preprocessing",
          "showTitle": true,
          "inputWidgets": {},
          "nuid": "7b910d83-b204-4ac7-99fb-dd5fb6781c18"
        },
        "id": "tYap2pO2dlag",
        "outputId": "ca17a3d0-e89d-47df-9959-6e80f78efd5e"
      },
      "source": [
        "df = spark.read.csv('/FileStore/tables/1990californiahousing.csv', inferSchema = True, header = True)\n",
        "\n",
        "df.show(5)"
      ],
      "execution_count": null,
      "outputs": [
        {
          "output_type": "display_data",
          "data": {
            "text/html": [
              "<style scoped>\n",
              "  .ansiout {\n",
              "    display: block;\n",
              "    unicode-bidi: embed;\n",
              "    white-space: pre-wrap;\n",
              "    word-wrap: break-word;\n",
              "    word-break: break-all;\n",
              "    font-family: \"Source Code Pro\", \"Menlo\", monospace;;\n",
              "    font-size: 13px;\n",
              "    color: #555;\n",
              "    margin-left: 4px;\n",
              "    line-height: 19px;\n",
              "  }\n",
              "</style>\n",
              "<div class=\"ansiout\">+---------+--------+------------------+-----------+--------------+----------+----------+-------------+------------------+---------------+\n",
              "longitude|latitude|housing_median_age|total_rooms|total_bedrooms|population|households|median_income|median_house_value|ocean_proximity|\n",
              "+---------+--------+------------------+-----------+--------------+----------+----------+-------------+------------------+---------------+\n",
              "  -122.23|   37.88|              41.0|      880.0|         129.0|     322.0|     126.0|       8.3252|          452600.0|       NEAR BAY|\n",
              "  -122.22|   37.86|              21.0|     7099.0|        1106.0|    2401.0|    1138.0|       8.3014|          358500.0|       NEAR BAY|\n",
              "  -122.24|   37.85|              52.0|     1467.0|         190.0|     496.0|     177.0|       7.2574|          352100.0|       NEAR BAY|\n",
              "  -122.25|   37.85|              52.0|     1274.0|         235.0|     558.0|     219.0|       5.6431|          341300.0|       NEAR BAY|\n",
              "  -122.25|   37.85|              52.0|     1627.0|         280.0|     565.0|     259.0|       3.8462|          342200.0|       NEAR BAY|\n",
              "+---------+--------+------------------+-----------+--------------+----------+----------+-------------+------------------+---------------+\n",
              "only showing top 5 rows\n",
              "\n",
              "</div>"
            ]
          },
          "metadata": {
            "tags": [],
            "application/vnd.databricks.v1+output": {
              "datasetInfos": [],
              "data": "<div class=\"ansiout\">+---------+--------+------------------+-----------+--------------+----------+----------+-------------+------------------+---------------+\n|longitude|latitude|housing_median_age|total_rooms|total_bedrooms|population|households|median_income|median_house_value|ocean_proximity|\n+---------+--------+------------------+-----------+--------------+----------+----------+-------------+------------------+---------------+\n|  -122.23|   37.88|              41.0|      880.0|         129.0|     322.0|     126.0|       8.3252|          452600.0|       NEAR BAY|\n|  -122.22|   37.86|              21.0|     7099.0|        1106.0|    2401.0|    1138.0|       8.3014|          358500.0|       NEAR BAY|\n|  -122.24|   37.85|              52.0|     1467.0|         190.0|     496.0|     177.0|       7.2574|          352100.0|       NEAR BAY|\n|  -122.25|   37.85|              52.0|     1274.0|         235.0|     558.0|     219.0|       5.6431|          341300.0|       NEAR BAY|\n|  -122.25|   37.85|              52.0|     1627.0|         280.0|     565.0|     259.0|       3.8462|          342200.0|       NEAR BAY|\n+---------+--------+------------------+-----------+--------------+----------+----------+-------------+------------------+---------------+\nonly showing top 5 rows\n\n</div>",
              "removedWidgets": [],
              "addedWidgets": {},
              "type": "html",
              "arguments": {}
            }
          }
        }
      ]
    },
    {
      "cell_type": "code",
      "metadata": {
        "application/vnd.databricks.v1+cell": {
          "title": "",
          "showTitle": false,
          "inputWidgets": {},
          "nuid": "d7ab08b5-f0ba-42f5-ac53-cedca82b4ba8"
        },
        "id": "eeuZ8k-Rdlah",
        "outputId": "7b6b0d6c-88d5-4220-ef97-3c1d60e3dc91"
      },
      "source": [
        "df.select('median_house_value').describe().show() #20640 rows in total with mean value of $206855 for housing price"
      ],
      "execution_count": null,
      "outputs": [
        {
          "output_type": "display_data",
          "data": {
            "text/html": [
              "<style scoped>\n",
              "  .ansiout {\n",
              "    display: block;\n",
              "    unicode-bidi: embed;\n",
              "    white-space: pre-wrap;\n",
              "    word-wrap: break-word;\n",
              "    word-break: break-all;\n",
              "    font-family: \"Source Code Pro\", \"Menlo\", monospace;;\n",
              "    font-size: 13px;\n",
              "    color: #555;\n",
              "    margin-left: 4px;\n",
              "    line-height: 19px;\n",
              "  }\n",
              "</style>\n",
              "<div class=\"ansiout\">+-------+------------------+\n",
              "summary|median_house_value|\n",
              "+-------+------------------+\n",
              "  count|             20640|\n",
              "   mean|206855.81690891474|\n",
              " stddev|115395.61587441359|\n",
              "    min|           14999.0|\n",
              "    max|          500001.0|\n",
              "+-------+------------------+\n",
              "\n",
              "</div>"
            ]
          },
          "metadata": {
            "tags": [],
            "application/vnd.databricks.v1+output": {
              "datasetInfos": [],
              "data": "<div class=\"ansiout\">+-------+------------------+\n|summary|median_house_value|\n+-------+------------------+\n|  count|             20640|\n|   mean|206855.81690891474|\n| stddev|115395.61587441359|\n|    min|           14999.0|\n|    max|          500001.0|\n+-------+------------------+\n\n</div>",
              "removedWidgets": [],
              "addedWidgets": {},
              "type": "html",
              "arguments": {}
            }
          }
        }
      ]
    },
    {
      "cell_type": "markdown",
      "metadata": {
        "id": "LsiZHl_kdsBk"
      },
      "source": [
        "**1.1 Cleaning Null Values**"
      ]
    },
    {
      "cell_type": "code",
      "metadata": {
        "application/vnd.databricks.v1+cell": {
          "title": "",
          "showTitle": false,
          "inputWidgets": {},
          "nuid": "d1f34590-a1c6-4dd7-ad4f-5491c5d86536"
        },
        "id": "25-HO-IZdlaj",
        "outputId": "31521dd6-fa4d-406f-f9b5-162822d4c525"
      },
      "source": [
        "df.select([count(when(isnan(c) | col(c).isNull(), c)).alias(c) for c in df.columns]).show() #looks like 207 null values from total_bedrooms"
      ],
      "execution_count": null,
      "outputs": [
        {
          "output_type": "display_data",
          "data": {
            "text/html": [
              "<style scoped>\n",
              "  .ansiout {\n",
              "    display: block;\n",
              "    unicode-bidi: embed;\n",
              "    white-space: pre-wrap;\n",
              "    word-wrap: break-word;\n",
              "    word-break: break-all;\n",
              "    font-family: \"Source Code Pro\", \"Menlo\", monospace;;\n",
              "    font-size: 13px;\n",
              "    color: #555;\n",
              "    margin-left: 4px;\n",
              "    line-height: 19px;\n",
              "  }\n",
              "</style>\n",
              "<div class=\"ansiout\">+---------+--------+------------------+-----------+--------------+----------+----------+-------------+------------------+---------------+\n",
              "longitude|latitude|housing_median_age|total_rooms|total_bedrooms|population|households|median_income|median_house_value|ocean_proximity|\n",
              "+---------+--------+------------------+-----------+--------------+----------+----------+-------------+------------------+---------------+\n",
              "        0|       0|                 0|          0|           207|         0|         0|            0|                 0|              0|\n",
              "+---------+--------+------------------+-----------+--------------+----------+----------+-------------+------------------+---------------+\n",
              "\n",
              "</div>"
            ]
          },
          "metadata": {
            "tags": [],
            "application/vnd.databricks.v1+output": {
              "datasetInfos": [],
              "data": "<div class=\"ansiout\">+---------+--------+------------------+-----------+--------------+----------+----------+-------------+------------------+---------------+\n|longitude|latitude|housing_median_age|total_rooms|total_bedrooms|population|households|median_income|median_house_value|ocean_proximity|\n+---------+--------+------------------+-----------+--------------+----------+----------+-------------+------------------+---------------+\n|        0|       0|                 0|          0|           207|         0|         0|            0|                 0|              0|\n+---------+--------+------------------+-----------+--------------+----------+----------+-------------+------------------+---------------+\n\n</div>",
              "removedWidgets": [],
              "addedWidgets": {},
              "type": "html",
              "arguments": {}
            }
          }
        }
      ]
    },
    {
      "cell_type": "code",
      "metadata": {
        "application/vnd.databricks.v1+cell": {
          "title": "",
          "showTitle": false,
          "inputWidgets": {},
          "nuid": "8eb6c465-d8f4-49ea-a4d1-fc3fce623dcd"
        },
        "id": "rLft1gytdlak",
        "outputId": "605a25ee-3949-4161-856c-c563f6c3d814"
      },
      "source": [
        "df = df.na.drop(how = 'any') #so dropping rows where all the row values are null\n",
        "df.select('median_house_value').describe().show() #see we dropped 207 null rows "
      ],
      "execution_count": null,
      "outputs": [
        {
          "output_type": "display_data",
          "data": {
            "text/html": [
              "<style scoped>\n",
              "  .ansiout {\n",
              "    display: block;\n",
              "    unicode-bidi: embed;\n",
              "    white-space: pre-wrap;\n",
              "    word-wrap: break-word;\n",
              "    word-break: break-all;\n",
              "    font-family: \"Source Code Pro\", \"Menlo\", monospace;;\n",
              "    font-size: 13px;\n",
              "    color: #555;\n",
              "    margin-left: 4px;\n",
              "    line-height: 19px;\n",
              "  }\n",
              "</style>\n",
              "<div class=\"ansiout\">+-------+------------------+\n",
              "summary|median_house_value|\n",
              "+-------+------------------+\n",
              "  count|             20433|\n",
              "   mean|206864.41315519012|\n",
              " stddev|115435.66709858322|\n",
              "    min|           14999.0|\n",
              "    max|          500001.0|\n",
              "+-------+------------------+\n",
              "\n",
              "</div>"
            ]
          },
          "metadata": {
            "tags": [],
            "application/vnd.databricks.v1+output": {
              "datasetInfos": [],
              "data": "<div class=\"ansiout\">+-------+------------------+\n|summary|median_house_value|\n+-------+------------------+\n|  count|             20433|\n|   mean|206864.41315519012|\n| stddev|115435.66709858322|\n|    min|           14999.0|\n|    max|          500001.0|\n+-------+------------------+\n\n</div>",
              "removedWidgets": [],
              "addedWidgets": {},
              "type": "html",
              "arguments": {}
            }
          }
        }
      ]
    },
    {
      "cell_type": "markdown",
      "metadata": {
        "id": "qcus1XySdw2T"
      },
      "source": [
        "**1.2 Encoding Categorial Data**"
      ]
    },
    {
      "cell_type": "code",
      "metadata": {
        "application/vnd.databricks.v1+cell": {
          "title": "",
          "showTitle": false,
          "inputWidgets": {},
          "nuid": "f2d1dff1-7b82-44f2-8ae1-14f3a3309bc4"
        },
        "id": "pbpQCKlMdlak",
        "outputId": "ae694cef-1ecd-4d94-b601-734bb08f9eb4"
      },
      "source": [
        "df.groupBy('ocean_proximity').count().show() #so we got 5 categories for ocean proximity"
      ],
      "execution_count": null,
      "outputs": [
        {
          "output_type": "display_data",
          "data": {
            "text/html": [
              "<style scoped>\n",
              "  .ansiout {\n",
              "    display: block;\n",
              "    unicode-bidi: embed;\n",
              "    white-space: pre-wrap;\n",
              "    word-wrap: break-word;\n",
              "    word-break: break-all;\n",
              "    font-family: \"Source Code Pro\", \"Menlo\", monospace;;\n",
              "    font-size: 13px;\n",
              "    color: #555;\n",
              "    margin-left: 4px;\n",
              "    line-height: 19px;\n",
              "  }\n",
              "</style>\n",
              "<div class=\"ansiout\">+---------------+-----+\n",
              "ocean_proximity|count|\n",
              "+---------------+-----+\n",
              "         ISLAND|    5|\n",
              "     NEAR OCEAN| 2628|\n",
              "       NEAR BAY| 2270|\n",
              "      &lt;1H OCEAN| 9034|\n",
              "         INLAND| 6496|\n",
              "+---------------+-----+\n",
              "\n",
              "</div>"
            ]
          },
          "metadata": {
            "tags": [],
            "application/vnd.databricks.v1+output": {
              "datasetInfos": [],
              "data": "<div class=\"ansiout\">+---------------+-----+\n|ocean_proximity|count|\n+---------------+-----+\n|         ISLAND|    5|\n|     NEAR OCEAN| 2628|\n|       NEAR BAY| 2270|\n|      &lt;1H OCEAN| 9034|\n|         INLAND| 6496|\n+---------------+-----+\n\n</div>",
              "removedWidgets": [],
              "addedWidgets": {},
              "type": "html",
              "arguments": {}
            }
          }
        }
      ]
    },
    {
      "cell_type": "code",
      "metadata": {
        "application/vnd.databricks.v1+cell": {
          "title": "",
          "showTitle": false,
          "inputWidgets": {},
          "nuid": "5413f706-2f65-47d7-8010-bf9514e71593"
        },
        "id": "xNlcfIA9dlal",
        "outputId": "f44d39d6-ab6e-4d8e-de44-de61cbeea665"
      },
      "source": [
        "encoder = StringIndexer(inputCol=\"ocean_proximity\", outputCol=\"ocean_proximity_cat\")\n",
        "encoded = encoder.fit(df).transform(df)\n",
        "encoded.show(5) #notice new column that encodes the ocean prox data"
      ],
      "execution_count": null,
      "outputs": [
        {
          "output_type": "display_data",
          "data": {
            "text/html": [
              "<style scoped>\n",
              "  .ansiout {\n",
              "    display: block;\n",
              "    unicode-bidi: embed;\n",
              "    white-space: pre-wrap;\n",
              "    word-wrap: break-word;\n",
              "    word-break: break-all;\n",
              "    font-family: \"Source Code Pro\", \"Menlo\", monospace;;\n",
              "    font-size: 13px;\n",
              "    color: #555;\n",
              "    margin-left: 4px;\n",
              "    line-height: 19px;\n",
              "  }\n",
              "</style>\n",
              "<div class=\"ansiout\">+---------+--------+------------------+-----------+--------------+----------+----------+-------------+------------------+---------------+-------------------+\n",
              "longitude|latitude|housing_median_age|total_rooms|total_bedrooms|population|households|median_income|median_house_value|ocean_proximity|ocean_proximity_cat|\n",
              "+---------+--------+------------------+-----------+--------------+----------+----------+-------------+------------------+---------------+-------------------+\n",
              "  -122.23|   37.88|              41.0|      880.0|         129.0|     322.0|     126.0|       8.3252|          452600.0|       NEAR BAY|                3.0|\n",
              "  -122.22|   37.86|              21.0|     7099.0|        1106.0|    2401.0|    1138.0|       8.3014|          358500.0|       NEAR BAY|                3.0|\n",
              "  -122.24|   37.85|              52.0|     1467.0|         190.0|     496.0|     177.0|       7.2574|          352100.0|       NEAR BAY|                3.0|\n",
              "  -122.25|   37.85|              52.0|     1274.0|         235.0|     558.0|     219.0|       5.6431|          341300.0|       NEAR BAY|                3.0|\n",
              "  -122.25|   37.85|              52.0|     1627.0|         280.0|     565.0|     259.0|       3.8462|          342200.0|       NEAR BAY|                3.0|\n",
              "+---------+--------+------------------+-----------+--------------+----------+----------+-------------+------------------+---------------+-------------------+\n",
              "only showing top 5 rows\n",
              "\n",
              "</div>"
            ]
          },
          "metadata": {
            "tags": [],
            "application/vnd.databricks.v1+output": {
              "datasetInfos": [],
              "data": "<div class=\"ansiout\">+---------+--------+------------------+-----------+--------------+----------+----------+-------------+------------------+---------------+-------------------+\n|longitude|latitude|housing_median_age|total_rooms|total_bedrooms|population|households|median_income|median_house_value|ocean_proximity|ocean_proximity_cat|\n+---------+--------+------------------+-----------+--------------+----------+----------+-------------+------------------+---------------+-------------------+\n|  -122.23|   37.88|              41.0|      880.0|         129.0|     322.0|     126.0|       8.3252|          452600.0|       NEAR BAY|                3.0|\n|  -122.22|   37.86|              21.0|     7099.0|        1106.0|    2401.0|    1138.0|       8.3014|          358500.0|       NEAR BAY|                3.0|\n|  -122.24|   37.85|              52.0|     1467.0|         190.0|     496.0|     177.0|       7.2574|          352100.0|       NEAR BAY|                3.0|\n|  -122.25|   37.85|              52.0|     1274.0|         235.0|     558.0|     219.0|       5.6431|          341300.0|       NEAR BAY|                3.0|\n|  -122.25|   37.85|              52.0|     1627.0|         280.0|     565.0|     259.0|       3.8462|          342200.0|       NEAR BAY|                3.0|\n+---------+--------+------------------+-----------+--------------+----------+----------+-------------+------------------+---------------+-------------------+\nonly showing top 5 rows\n\n</div>",
              "removedWidgets": [],
              "addedWidgets": {},
              "type": "html",
              "arguments": {}
            }
          }
        }
      ]
    },
    {
      "cell_type": "markdown",
      "metadata": {
        "id": "WlGkQbzVd0V0"
      },
      "source": [
        "**1.3 Creating Features Column**"
      ]
    },
    {
      "cell_type": "code",
      "metadata": {
        "application/vnd.databricks.v1+cell": {
          "title": "",
          "showTitle": false,
          "inputWidgets": {},
          "nuid": "4e9de58a-312b-421a-9f5e-894d10f4a883"
        },
        "id": "b8_jg5kxdlal",
        "outputId": "95c596a3-90f9-4a10-ce42-19be264098ab"
      },
      "source": [
        "assembler = VectorAssembler(inputCols=['longitude','latitude','housing_median_age','total_rooms','total_bedrooms','population','households','median_income',\n",
        "                                       'ocean_proximity_cat'],\n",
        "                           outputCol='features') \n",
        "#so we're grabbing our relevant features and turning them into a single vector, since PySpark need 2 columns coming in as Features and Label. OutputCol is the single feature column that we combined\n",
        "\n",
        "output = assembler.transform(encoded) #applying our vector assembler to all our data\n",
        "\n",
        "output.printSchema()"
      ],
      "execution_count": null,
      "outputs": [
        {
          "output_type": "display_data",
          "data": {
            "text/html": [
              "<style scoped>\n",
              "  .ansiout {\n",
              "    display: block;\n",
              "    unicode-bidi: embed;\n",
              "    white-space: pre-wrap;\n",
              "    word-wrap: break-word;\n",
              "    word-break: break-all;\n",
              "    font-family: \"Source Code Pro\", \"Menlo\", monospace;;\n",
              "    font-size: 13px;\n",
              "    color: #555;\n",
              "    margin-left: 4px;\n",
              "    line-height: 19px;\n",
              "  }\n",
              "</style>\n",
              "<div class=\"ansiout\">root\n",
              "-- longitude: double (nullable = true)\n",
              "-- latitude: double (nullable = true)\n",
              "-- housing_median_age: double (nullable = true)\n",
              "-- total_rooms: double (nullable = true)\n",
              "-- total_bedrooms: double (nullable = true)\n",
              "-- population: double (nullable = true)\n",
              "-- households: double (nullable = true)\n",
              "-- median_income: double (nullable = true)\n",
              "-- median_house_value: double (nullable = true)\n",
              "-- ocean_proximity: string (nullable = true)\n",
              "-- ocean_proximity_cat: double (nullable = false)\n",
              "-- features: vector (nullable = true)\n",
              "\n",
              "</div>"
            ]
          },
          "metadata": {
            "tags": [],
            "application/vnd.databricks.v1+output": {
              "datasetInfos": [],
              "data": "<div class=\"ansiout\">root\n |-- longitude: double (nullable = true)\n |-- latitude: double (nullable = true)\n |-- housing_median_age: double (nullable = true)\n |-- total_rooms: double (nullable = true)\n |-- total_bedrooms: double (nullable = true)\n |-- population: double (nullable = true)\n |-- households: double (nullable = true)\n |-- median_income: double (nullable = true)\n |-- median_house_value: double (nullable = true)\n |-- ocean_proximity: string (nullable = true)\n |-- ocean_proximity_cat: double (nullable = false)\n |-- features: vector (nullable = true)\n\n</div>",
              "removedWidgets": [],
              "addedWidgets": {},
              "type": "html",
              "arguments": {}
            }
          }
        }
      ]
    },
    {
      "cell_type": "code",
      "metadata": {
        "application/vnd.databricks.v1+cell": {
          "title": "",
          "showTitle": false,
          "inputWidgets": {},
          "nuid": "e7849212-18a6-4315-810b-9245de3dadb0"
        },
        "id": "1CY-if8jdlam",
        "outputId": "97b934ac-f039-414f-acbe-c4b2930a5066"
      },
      "source": [
        "output.select('features').head(1) #notice features is a DenseVector containing all the features we combined"
      ],
      "execution_count": null,
      "outputs": [
        {
          "output_type": "display_data",
          "data": {
            "text/html": [
              "<style scoped>\n",
              "  .ansiout {\n",
              "    display: block;\n",
              "    unicode-bidi: embed;\n",
              "    white-space: pre-wrap;\n",
              "    word-wrap: break-word;\n",
              "    word-break: break-all;\n",
              "    font-family: \"Source Code Pro\", \"Menlo\", monospace;;\n",
              "    font-size: 13px;\n",
              "    color: #555;\n",
              "    margin-left: 4px;\n",
              "    line-height: 19px;\n",
              "  }\n",
              "</style>\n",
              "<div class=\"ansiout\">Out[10]: [Row(features=DenseVector([-122.23, 37.88, 41.0, 880.0, 129.0, 322.0, 126.0, 8.3252, 3.0]))]</div>"
            ]
          },
          "metadata": {
            "tags": [],
            "application/vnd.databricks.v1+output": {
              "datasetInfos": [],
              "data": "<div class=\"ansiout\">Out[10]: [Row(features=DenseVector([-122.23, 37.88, 41.0, 880.0, 129.0, 322.0, 126.0, 8.3252, 3.0]))]</div>",
              "removedWidgets": [],
              "addedWidgets": {},
              "type": "html",
              "arguments": {}
            }
          }
        }
      ]
    },
    {
      "cell_type": "markdown",
      "metadata": {
        "id": "qfYzl7qud3jl"
      },
      "source": [
        "**1.4 Creating Feature and Label Dataframe**\n"
      ]
    },
    {
      "cell_type": "code",
      "metadata": {
        "application/vnd.databricks.v1+cell": {
          "title": "",
          "showTitle": false,
          "inputWidgets": {},
          "nuid": "e59d6a6a-4753-476c-9b8b-56773f3ecd84"
        },
        "id": "DSp7h_fLdlam",
        "outputId": "7fb8cce6-feb1-4a6a-cce0-2b8137d6955e"
      },
      "source": [
        "final_data = output.select('features', 'median_house_value') #so the data we'll be using to apply LR will be the features and the label\n",
        "\n",
        "final_data.show(3)"
      ],
      "execution_count": null,
      "outputs": [
        {
          "output_type": "display_data",
          "data": {
            "text/html": [
              "<style scoped>\n",
              "  .ansiout {\n",
              "    display: block;\n",
              "    unicode-bidi: embed;\n",
              "    white-space: pre-wrap;\n",
              "    word-wrap: break-word;\n",
              "    word-break: break-all;\n",
              "    font-family: \"Source Code Pro\", \"Menlo\", monospace;;\n",
              "    font-size: 13px;\n",
              "    color: #555;\n",
              "    margin-left: 4px;\n",
              "    line-height: 19px;\n",
              "  }\n",
              "</style>\n",
              "<div class=\"ansiout\">+--------------------+------------------+\n",
              "            features|median_house_value|\n",
              "+--------------------+------------------+\n",
              "[-122.23,37.88,41...|          452600.0|\n",
              "[-122.22,37.86,21...|          358500.0|\n",
              "[-122.24,37.85,52...|          352100.0|\n",
              "+--------------------+------------------+\n",
              "only showing top 3 rows\n",
              "\n",
              "</div>"
            ]
          },
          "metadata": {
            "tags": [],
            "application/vnd.databricks.v1+output": {
              "datasetInfos": [],
              "data": "<div class=\"ansiout\">+--------------------+------------------+\n|            features|median_house_value|\n+--------------------+------------------+\n|[-122.23,37.88,41...|          452600.0|\n|[-122.22,37.86,21...|          358500.0|\n|[-122.24,37.85,52...|          352100.0|\n+--------------------+------------------+\nonly showing top 3 rows\n\n</div>",
              "removedWidgets": [],
              "addedWidgets": {},
              "type": "html",
              "arguments": {}
            }
          }
        }
      ]
    },
    {
      "cell_type": "markdown",
      "metadata": {
        "id": "xgoRnaEkd67k"
      },
      "source": [
        "**1.5 Train Test Split**\n"
      ]
    },
    {
      "cell_type": "code",
      "metadata": {
        "application/vnd.databricks.v1+cell": {
          "title": "",
          "showTitle": false,
          "inputWidgets": {},
          "nuid": "4dadee5f-fbf1-4a27-8144-14fa8ae3793b"
        },
        "id": "F3GLAqgddlan",
        "outputId": "0af96b85-58b4-4560-cb5e-8db0a7f49ea6"
      },
      "source": [
        "train, test = final_data.randomSplit([0.8,0.2]) #train will have 80%, test will have 20% of data\n",
        "\n",
        "train.describe().show()"
      ],
      "execution_count": null,
      "outputs": [
        {
          "output_type": "display_data",
          "data": {
            "text/html": [
              "<style scoped>\n",
              "  .ansiout {\n",
              "    display: block;\n",
              "    unicode-bidi: embed;\n",
              "    white-space: pre-wrap;\n",
              "    word-wrap: break-word;\n",
              "    word-break: break-all;\n",
              "    font-family: \"Source Code Pro\", \"Menlo\", monospace;;\n",
              "    font-size: 13px;\n",
              "    color: #555;\n",
              "    margin-left: 4px;\n",
              "    line-height: 19px;\n",
              "  }\n",
              "</style>\n",
              "<div class=\"ansiout\">+-------+------------------+\n",
              "summary|median_house_value|\n",
              "+-------+------------------+\n",
              "  count|             16351|\n",
              "   mean|206961.38187266834|\n",
              " stddev|115265.10632236877|\n",
              "    min|           14999.0|\n",
              "    max|          500001.0|\n",
              "+-------+------------------+\n",
              "\n",
              "</div>"
            ]
          },
          "metadata": {
            "tags": [],
            "application/vnd.databricks.v1+output": {
              "datasetInfos": [],
              "data": "<div class=\"ansiout\">+-------+------------------+\n|summary|median_house_value|\n+-------+------------------+\n|  count|             16351|\n|   mean|206961.38187266834|\n| stddev|115265.10632236877|\n|    min|           14999.0|\n|    max|          500001.0|\n+-------+------------------+\n\n</div>",
              "removedWidgets": [],
              "addedWidgets": {},
              "type": "html",
              "arguments": {}
            }
          }
        }
      ]
    },
    {
      "cell_type": "code",
      "metadata": {
        "application/vnd.databricks.v1+cell": {
          "title": "",
          "showTitle": false,
          "inputWidgets": {},
          "nuid": "41642e93-eba9-4143-abff-257194214694"
        },
        "id": "hejGSbq3dlan",
        "outputId": "3d5c525b-1882-4944-f28f-a26f6e4bc146"
      },
      "source": [
        "test.describe().show()"
      ],
      "execution_count": null,
      "outputs": [
        {
          "output_type": "display_data",
          "data": {
            "text/html": [
              "<style scoped>\n",
              "  .ansiout {\n",
              "    display: block;\n",
              "    unicode-bidi: embed;\n",
              "    white-space: pre-wrap;\n",
              "    word-wrap: break-word;\n",
              "    word-break: break-all;\n",
              "    font-family: \"Source Code Pro\", \"Menlo\", monospace;;\n",
              "    font-size: 13px;\n",
              "    color: #555;\n",
              "    margin-left: 4px;\n",
              "    line-height: 19px;\n",
              "  }\n",
              "</style>\n",
              "<div class=\"ansiout\">+-------+------------------+\n",
              "summary|median_house_value|\n",
              "+-------+------------------+\n",
              "  count|              4082|\n",
              "   mean| 206475.9919157276|\n",
              " stddev|116129.73170017391|\n",
              "    min|           22500.0|\n",
              "    max|          500001.0|\n",
              "+-------+------------------+\n",
              "\n",
              "</div>"
            ]
          },
          "metadata": {
            "tags": [],
            "application/vnd.databricks.v1+output": {
              "datasetInfos": [],
              "data": "<div class=\"ansiout\">+-------+------------------+\n|summary|median_house_value|\n+-------+------------------+\n|  count|              4082|\n|   mean| 206475.9919157276|\n| stddev|116129.73170017391|\n|    min|           22500.0|\n|    max|          500001.0|\n+-------+------------------+\n\n</div>",
              "removedWidgets": [],
              "addedWidgets": {},
              "type": "html",
              "arguments": {}
            }
          }
        }
      ]
    },
    {
      "cell_type": "markdown",
      "metadata": {
        "id": "xabokvLNd-is"
      },
      "source": [
        "# **Part 2 - Creating Model**"
      ]
    },
    {
      "cell_type": "code",
      "metadata": {
        "application/vnd.databricks.v1+cell": {
          "title": "Part 2 - Creating Model",
          "showTitle": true,
          "inputWidgets": {},
          "nuid": "3006af92-305f-44ef-87bb-6d3079e0ce55"
        },
        "id": "K19ZSgPbdlao",
        "outputId": "8b724f69-1455-4bcb-ebd2-a8c460106aa5"
      },
      "source": [
        "lr = LinearRegression(featuresCol='features', labelCol='median_house_value', predictionCol='prediction', maxIter=200) #Creating instance of linear regression module\n",
        "\n",
        "lrmodel = lr.fit(train) #fitting our train data"
      ],
      "execution_count": null,
      "outputs": [
        {
          "output_type": "display_data",
          "data": {
            "text/html": [
              "<style scoped>\n",
              "  .ansiout {\n",
              "    display: block;\n",
              "    unicode-bidi: embed;\n",
              "    white-space: pre-wrap;\n",
              "    word-wrap: break-word;\n",
              "    word-break: break-all;\n",
              "    font-family: \"Source Code Pro\", \"Menlo\", monospace;;\n",
              "    font-size: 13px;\n",
              "    color: #555;\n",
              "    margin-left: 4px;\n",
              "    line-height: 19px;\n",
              "  }\n",
              "</style>\n",
              "<div class=\"ansiout\"></div>"
            ]
          },
          "metadata": {
            "tags": [],
            "application/vnd.databricks.v1+output": {
              "datasetInfos": [],
              "data": "<div class=\"ansiout\"></div>",
              "removedWidgets": [],
              "addedWidgets": {},
              "type": "html",
              "arguments": {}
            }
          }
        }
      ]
    },
    {
      "cell_type": "markdown",
      "metadata": {
        "id": "pZK9caDueAPn"
      },
      "source": [
        "# **Part 3 - Evaluating Model**"
      ]
    },
    {
      "cell_type": "code",
      "metadata": {
        "application/vnd.databricks.v1+cell": {
          "title": "Part 3 - Evaluating Model",
          "showTitle": true,
          "inputWidgets": {},
          "nuid": "a7020ab5-963e-458f-8c5b-da8c3867a372"
        },
        "id": "23JhHOfBdlao",
        "outputId": "18ab0b43-e214-4517-f3f5-158e465817ac"
      },
      "source": [
        "test_results = lrmodel.evaluate(test)\n",
        "\n",
        "test_results.residuals.show() #residuals is the diff between predicted values and label"
      ],
      "execution_count": null,
      "outputs": [
        {
          "output_type": "display_data",
          "data": {
            "text/html": [
              "<style scoped>\n",
              "  .ansiout {\n",
              "    display: block;\n",
              "    unicode-bidi: embed;\n",
              "    white-space: pre-wrap;\n",
              "    word-wrap: break-word;\n",
              "    word-break: break-all;\n",
              "    font-family: \"Source Code Pro\", \"Menlo\", monospace;;\n",
              "    font-size: 13px;\n",
              "    color: #555;\n",
              "    margin-left: 4px;\n",
              "    line-height: 19px;\n",
              "  }\n",
              "</style>\n",
              "<div class=\"ansiout\">+-------------------+\n",
              "          residuals|\n",
              "+-------------------+\n",
              "  -44861.2343934346|\n",
              " 11069.452541896142|\n",
              " -62174.13952363422|\n",
              "  -71873.2328862315|\n",
              " -48922.51119645266|\n",
              " 126480.80096466746|\n",
              " -51880.57862927765|\n",
              " 49805.388888827525|\n",
              " -65902.26206663577|\n",
              " -81494.49987139832|\n",
              "-47744.521984169725|\n",
              " -2813.632734784391|\n",
              "-7309.4298051008955|\n",
              "-17334.447228764184|\n",
              " 57124.157108515035|\n",
              "    -78966.59478046|\n",
              " -40923.31040235562|\n",
              " -34775.53556794254|\n",
              " 2327.7337433062494|\n",
              " 25305.732973218895|\n",
              "+-------------------+\n",
              "only showing top 20 rows\n",
              "\n",
              "</div>"
            ]
          },
          "metadata": {
            "tags": [],
            "application/vnd.databricks.v1+output": {
              "datasetInfos": [],
              "data": "<div class=\"ansiout\">+-------------------+\n|          residuals|\n+-------------------+\n|  -44861.2343934346|\n| 11069.452541896142|\n| -62174.13952363422|\n|  -71873.2328862315|\n| -48922.51119645266|\n| 126480.80096466746|\n| -51880.57862927765|\n| 49805.388888827525|\n| -65902.26206663577|\n| -81494.49987139832|\n|-47744.521984169725|\n| -2813.632734784391|\n|-7309.4298051008955|\n|-17334.447228764184|\n| 57124.157108515035|\n|    -78966.59478046|\n| -40923.31040235562|\n| -34775.53556794254|\n| 2327.7337433062494|\n| 25305.732973218895|\n+-------------------+\nonly showing top 20 rows\n\n</div>",
              "removedWidgets": [],
              "addedWidgets": {},
              "type": "html",
              "arguments": {}
            }
          }
        }
      ]
    },
    {
      "cell_type": "code",
      "metadata": {
        "application/vnd.databricks.v1+cell": {
          "title": "",
          "showTitle": false,
          "inputWidgets": {},
          "nuid": "e020ccce-7116-40ba-939c-7d527b78e241"
        },
        "id": "fs0Cecrldlap",
        "outputId": "5e758921-e40a-466a-d361-01169da26fb4"
      },
      "source": [
        "test_results.rootMeanSquaredError #we're off on average by $71944.62 for housing price, so we're within one standard deviation of $116129.73"
      ],
      "execution_count": null,
      "outputs": [
        {
          "output_type": "display_data",
          "data": {
            "text/html": [
              "<style scoped>\n",
              "  .ansiout {\n",
              "    display: block;\n",
              "    unicode-bidi: embed;\n",
              "    white-space: pre-wrap;\n",
              "    word-wrap: break-word;\n",
              "    word-break: break-all;\n",
              "    font-family: \"Source Code Pro\", \"Menlo\", monospace;;\n",
              "    font-size: 13px;\n",
              "    color: #555;\n",
              "    margin-left: 4px;\n",
              "    line-height: 19px;\n",
              "  }\n",
              "</style>\n",
              "<div class=\"ansiout\">Out[35]: 71944.61620404138</div>"
            ]
          },
          "metadata": {
            "tags": [],
            "application/vnd.databricks.v1+output": {
              "datasetInfos": [],
              "data": "<div class=\"ansiout\">Out[35]: 71944.61620404138</div>",
              "removedWidgets": [],
              "addedWidgets": {},
              "type": "html",
              "arguments": {}
            }
          }
        }
      ]
    },
    {
      "cell_type": "code",
      "metadata": {
        "application/vnd.databricks.v1+cell": {
          "title": "",
          "showTitle": false,
          "inputWidgets": {},
          "nuid": "883b633c-ed18-4e97-a03c-7e1c9253fbc4"
        },
        "id": "6G8fUS76dlap",
        "outputId": "680f436a-ddcd-4aaa-f4c7-47e55f509585"
      },
      "source": [
        "final_data.describe().show() #we're within one standard deviation"
      ],
      "execution_count": null,
      "outputs": [
        {
          "output_type": "display_data",
          "data": {
            "text/html": [
              "<style scoped>\n",
              "  .ansiout {\n",
              "    display: block;\n",
              "    unicode-bidi: embed;\n",
              "    white-space: pre-wrap;\n",
              "    word-wrap: break-word;\n",
              "    word-break: break-all;\n",
              "    font-family: \"Source Code Pro\", \"Menlo\", monospace;;\n",
              "    font-size: 13px;\n",
              "    color: #555;\n",
              "    margin-left: 4px;\n",
              "    line-height: 19px;\n",
              "  }\n",
              "</style>\n",
              "<div class=\"ansiout\">+-------+------------------+\n",
              "summary|median_house_value|\n",
              "+-------+------------------+\n",
              "  count|             20433|\n",
              "   mean|206864.41315519012|\n",
              " stddev|115435.66709858322|\n",
              "    min|           14999.0|\n",
              "    max|          500001.0|\n",
              "+-------+------------------+\n",
              "\n",
              "</div>"
            ]
          },
          "metadata": {
            "tags": [],
            "application/vnd.databricks.v1+output": {
              "datasetInfos": [],
              "data": "<div class=\"ansiout\">+-------+------------------+\n|summary|median_house_value|\n+-------+------------------+\n|  count|             20433|\n|   mean|206864.41315519012|\n| stddev|115435.66709858322|\n|    min|           14999.0|\n|    max|          500001.0|\n+-------+------------------+\n\n</div>",
              "removedWidgets": [],
              "addedWidgets": {},
              "type": "html",
              "arguments": {}
            }
          }
        }
      ]
    },
    {
      "cell_type": "code",
      "metadata": {
        "application/vnd.databricks.v1+cell": {
          "title": "",
          "showTitle": false,
          "inputWidgets": {},
          "nuid": "b468d60a-179c-4332-ac6f-1c1441022878"
        },
        "id": "uzFP0YKWdlap",
        "outputId": "442ee1e2-cbf1-4314-ca02-c573bd58b881"
      },
      "source": [
        ""
      ],
      "execution_count": null,
      "outputs": [
        {
          "output_type": "display_data",
          "data": {
            "text/html": [
              "<style scoped>\n",
              "  .ansiout {\n",
              "    display: block;\n",
              "    unicode-bidi: embed;\n",
              "    white-space: pre-wrap;\n",
              "    word-wrap: break-word;\n",
              "    word-break: break-all;\n",
              "    font-family: \"Source Code Pro\", \"Menlo\", monospace;;\n",
              "    font-size: 13px;\n",
              "    color: #555;\n",
              "    margin-left: 4px;\n",
              "    line-height: 19px;\n",
              "  }\n",
              "</style>"
            ]
          },
          "metadata": {
            "tags": [],
            "application/vnd.databricks.v1+output": {
              "type": "ipynbError",
              "data": "",
              "errorSummary": "",
              "arguments": {}
            }
          }
        }
      ]
    }
  ]
}